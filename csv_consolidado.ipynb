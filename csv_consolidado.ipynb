{
 "cells": [
  {
   "cell_type": "code",
   "execution_count": 1,
   "id": "3d8360e3",
   "metadata": {},
   "outputs": [],
   "source": [
    "import pandas as pd"
   ]
  },
  {
   "cell_type": "markdown",
   "id": "ac9eef4a",
   "metadata": {},
   "source": [
    "## LEE ARCHIVOS CSV DE LA CARPETA"
   ]
  },
  {
   "cell_type": "code",
   "execution_count": 3,
   "id": "18f63413",
   "metadata": {},
   "outputs": [],
   "source": [
    "import os\n",
    "path = r'D:\\JUPYTER\\PEDIDOS_RICARDO\\Muestra\\Acc'\n",
    "list = []\n",
    "\n",
    "inputs_ct = []\n",
    "for file in os.listdir(path):\n",
    "    if file.endswith(\".csv\"):\n",
    "        inputs_ct.append(os.path.join(path, file))"
   ]
  },
  {
   "cell_type": "code",
   "execution_count": 4,
   "id": "933e5e3c",
   "metadata": {},
   "outputs": [
    {
     "data": {
      "text/plain": [
       "['D:\\\\JUPYTER\\\\PEDIDOS_RICARDO\\\\Muestra\\\\Acc\\\\Export_AccountReport_1.csv',\n",
       " 'D:\\\\JUPYTER\\\\PEDIDOS_RICARDO\\\\Muestra\\\\Acc\\\\Export_AccountReport_2.csv',\n",
       " 'D:\\\\JUPYTER\\\\PEDIDOS_RICARDO\\\\Muestra\\\\Acc\\\\Export_AccountReport_3.csv',\n",
       " 'D:\\\\JUPYTER\\\\PEDIDOS_RICARDO\\\\Muestra\\\\Acc\\\\Export_AccountReport_4.csv']"
      ]
     },
     "execution_count": 4,
     "metadata": {},
     "output_type": "execute_result"
    }
   ],
   "source": [
    "inputs_ct"
   ]
  },
  {
   "cell_type": "markdown",
   "id": "9206ba9f",
   "metadata": {},
   "source": [
    "## GUARDA CONSOLIDADO CSV"
   ]
  },
  {
   "cell_type": "code",
   "execution_count": 18,
   "id": "4367b214",
   "metadata": {},
   "outputs": [
    {
     "ename": "NameError",
     "evalue": "name 'AcctHoldIndAddressFree' is not defined",
     "output_type": "error",
     "traceback": [
      "\u001b[1;31m---------------------------------------------------------------------------\u001b[0m",
      "\u001b[1;31mNameError\u001b[0m                                 Traceback (most recent call last)",
      "\u001b[1;32m~\\AppData\\Local\\Temp\\ipykernel_14444\\1811084408.py\u001b[0m in \u001b[0;36m<module>\u001b[1;34m\u001b[0m\n\u001b[0;32m      1\u001b[0m \u001b[1;31m#header = \"C1,C2,C3,C4,C5,C6,C7,C8,C9,C10,C11,C12,C13,C14,C15,C16,C17,C18,C19,C20,C21,C22,C23,C24,C25,C26,C27,C28,C29,C30,C31,C32,C33,C34,C35,C36,C37,C38,C39,C40,C41,C42,C43,C44,C45,C46,C47,C48,C49,C50,C51,C52,C53,C54,C55,C56,C57,C58,C59,C60,C61\"\u001b[0m\u001b[1;33m\u001b[0m\u001b[1;33m\u001b[0m\u001b[0m\n\u001b[1;32m----> 2\u001b[1;33m \u001b[0mheader\u001b[0m \u001b[1;33m=\u001b[0m \u001b[1;34m\"FileId\"\u001b[0m\u001b[1;33m,\u001b[0m\u001b[1;34m\"AccountReportId\"\u001b[0m\u001b[1;33m,\u001b[0m\u001b[1;34m\"ReportingFIId\"\u001b[0m\u001b[1;33m,\u001b[0m\u001b[1;34m\"AccountNumber\"\u001b[0m\u001b[1;33m,\u001b[0m\u001b[1;34m\"AccountBalance\"\u001b[0m\u001b[1;33m,\u001b[0m\u001b[1;34m\"AccountBalanceCurrCode\"\u001b[0m\u001b[1;33m,\u001b[0m\u001b[1;34m\"AcctHoldIndResCountryCode\"\u001b[0m\u001b[1;33m,\u001b[0m\u001b[1;34m\"AcctHoldIndTIN\"\u001b[0m\u001b[1;33m,\u001b[0m\u001b[1;34m\"AcctHoldIndIssuedBy\"\u001b[0m\u001b[1;33m,\u001b[0m\u001b[1;34m\"\"\u001b[0m\u001b[1;33m,\u001b[0m\u001b[1;34m\"AcctHoldIndPrecedingTitle\"\u001b[0m\u001b[1;33m,\u001b[0m\u001b[1;34m\"AcctHoldIndTitle\"\u001b[0m\u001b[1;33m,\u001b[0m\u001b[1;34m\"AcctHoldIndFirstName\"\u001b[0m\u001b[1;33m,\u001b[0m\u001b[1;34m\"AcctHoldIndFirstName_xnlNameType\"\u001b[0m\u001b[1;33m,\u001b[0m\u001b[1;34m\"AcctHoldIndMiddleName\"\u001b[0m\u001b[1;33m,\u001b[0m\u001b[1;34m\"AcctHoldIndMiddleName_xnlNameType\"\u001b[0m\u001b[1;33m,\u001b[0m\u001b[1;34m\"AcctHoldIndNamePrefix\"\u001b[0m\u001b[1;33m,\u001b[0m\u001b[1;34m\"AcctHoldIndNamePrefix_ xnlNameType\"\u001b[0m\u001b[1;33m,\u001b[0m\u001b[1;34m\"AcctHoldIndLastName\"\u001b[0m\u001b[1;33m,\u001b[0m\u001b[1;34m\"AcctHoldIndLastName_ xnlNameType\"\u001b[0m\u001b[1;33m,\u001b[0m\u001b[1;34m\"AcctHoldIndGenerationIdentifier\"\u001b[0m\u001b[1;33m,\u001b[0m\u001b[1;34m\"AcctHoldIndSuffix\"\u001b[0m\u001b[1;33m,\u001b[0m\u001b[1;34m\"AcctHoldIndGeneralSuffix\"\u001b[0m\u001b[1;33m,\u001b[0m\u001b[1;34m\"AcctHoldIndAddressCountryCode\"\u001b[0m\u001b[1;33m,\u001b[0m\u001b[1;34m\"AcctHoldIndAddressFixStreet\"\u001b[0m\u001b[1;33m,\u001b[0m\u001b[1;34m\"AcctHoldIndAddressFixBuildingIdentifier\"\u001b[0m\u001b[1;33m,\u001b[0m\u001b[1;34m\"AcctHoldIndAddressFixSuiteIdentifier\"\u001b[0m\u001b[1;33m,\u001b[0m\u001b[1;34m\"AcctHoldIndAddressFixFloorIdentifier\"\u001b[0m\u001b[1;33m,\u001b[0m\u001b[1;34m\"AcctHoldIndAddressFixDistrictName\"\u001b[0m\u001b[1;33m,\u001b[0m\u001b[1;34m\"AcctHoldIndAddressFixPOB\"\u001b[0m\u001b[1;33m,\u001b[0m\u001b[1;34m\"AcctHoldIndAddressFixPostCode\"\u001b[0m\u001b[1;33m,\u001b[0m\u001b[1;34m\"AcctHoldIndAddressFixCity\"\u001b[0m\u001b[1;33m,\u001b[0m\u001b[1;34m\"AcctHoldIndAddressFixCountrySubentity\"\u001b[0m\u001b[1;33m,\u001b[0m\u001b[0mAcctHoldIndAddressFree\u001b[0m\u001b[1;33m,\u001b[0m\u001b[1;34m\"AcctHoldIndNationality\"\u001b[0m\u001b[1;33m,\u001b[0m\u001b[1;34m\"AcctHoldIndBirthDate\"\u001b[0m\u001b[1;33m,\u001b[0m\u001b[1;34m\"AcctHoldIndCity\"\u001b[0m\u001b[1;33m,\u001b[0m\u001b[1;34m\"AcctHoldIndCitySubentity\"\u001b[0m\u001b[1;33m,\u001b[0m\u001b[1;34m\"AcctHoldIndCountryCode\"\u001b[0m\u001b[1;33m,\u001b[0m\u001b[1;34m\"AcctHoldIndFormerCountryName\"\u001b[0m\u001b[1;33m,\u001b[0m\u001b[1;34m\"AcctHoldOrgResCountryCode\"\u001b[0m\u001b[1;33m,\u001b[0m\u001b[1;34m\"AcctHoldOrgTIN\"\u001b[0m\u001b[1;33m,\u001b[0m\u001b[1;34m\"AcctHoldOrgIssued by\"\u001b[0m\u001b[1;33m,\u001b[0m\u001b[1;34m\"\"\u001b[0m\u001b[1;33m,\u001b[0m\u001b[1;34m\"AcctHoldOrgName\"\u001b[0m\u001b[1;33m,\u001b[0m\u001b[1;34m\"AcctHoldOrgAddressCountryCode\"\u001b[0m\u001b[1;33m,\u001b[0m\u001b[1;34m\"AcctHoldOrgAddressFixStreet\"\u001b[0m\u001b[1;33m,\u001b[0m\u001b[1;34m\"AcctHoldOrgAddressFixBuildingIdentifier\"\u001b[0m\u001b[1;33m,\u001b[0m\u001b[1;34m\"AcctHoldOrgAddressFixSuiteIdentifier\"\u001b[0m\u001b[1;33m,\u001b[0m\u001b[1;34m\"AcctHoldOrgAddressFixFloorIdentifier\"\u001b[0m\u001b[1;33m,\u001b[0m\u001b[1;34m\"AcctHoldOrgAddressFixDistrictName\"\u001b[0m\u001b[1;33m,\u001b[0m\u001b[1;34m\"AcctHoldOrgAddressFixPOB\"\u001b[0m\u001b[1;33m,\u001b[0m\u001b[1;34m\"AcctHoldOrgAddressFixPostCode\"\u001b[0m\u001b[1;33m,\u001b[0m\u001b[1;34m\"AcctHoldOrgAddressFixCity\"\u001b[0m\u001b[1;33m,\u001b[0m\u001b[1;34m\"AcctHoldOrgAddressFixCountrySubentity\"\u001b[0m\u001b[1;33m,\u001b[0m\u001b[1;34m\"AcctHoldOrgAddressFree\"\u001b[0m\u001b[1;33m,\u001b[0m\u001b[1;34m\"\"\u001b[0m\u001b[1;33m,\u001b[0m\u001b[1;34m\"\"\u001b[0m\u001b[1;33m,\u001b[0m\u001b[1;34m\"DocRefID\"\u001b[0m\u001b[1;33m,\u001b[0m\u001b[1;34m\"CorrDocRefID\"\u001b[0m\u001b[1;33m,\u001b[0m\u001b[1;34m\"CorrMessageRefID\"\u001b[0m\u001b[1;33m\u001b[0m\u001b[1;33m\u001b[0m\u001b[0m\n\u001b[0m\u001b[0;32m      3\u001b[0m \u001b[1;32mwith\u001b[0m \u001b[0mopen\u001b[0m\u001b[1;33m(\u001b[0m\u001b[1;34m'CSV_Consolidado.csv'\u001b[0m\u001b[1;33m,\u001b[0m \u001b[1;34m'w'\u001b[0m\u001b[1;33m)\u001b[0m \u001b[1;32mas\u001b[0m \u001b[0moutfile\u001b[0m\u001b[1;33m:\u001b[0m\u001b[1;33m\u001b[0m\u001b[1;33m\u001b[0m\u001b[0m\n\u001b[0;32m      4\u001b[0m     \u001b[0moutfile\u001b[0m\u001b[1;33m.\u001b[0m\u001b[0mwrite\u001b[0m\u001b[1;33m(\u001b[0m\u001b[0mheader\u001b[0m \u001b[1;33m+\u001b[0m \u001b[1;34m\"\\n\"\u001b[0m\u001b[1;33m)\u001b[0m\u001b[1;33m\u001b[0m\u001b[1;33m\u001b[0m\u001b[0m\n\u001b[0;32m      5\u001b[0m \u001b[1;33m\u001b[0m\u001b[0m\n",
      "\u001b[1;31mNameError\u001b[0m: name 'AcctHoldIndAddressFree' is not defined"
     ]
    }
   ],
   "source": [
    "#header = \"C1,C2,C3,C4,C5,C6,C7,C8,C9,C10,C11,C12,C13,C14,C15,C16,C17,C18,C19,C20,C21,C22,C23,C24,C25,C26,C27,C28,C29,C30,C31,C32,C33,C34,C35,C36,C37,C38,C39,C40,C41,C42,C43,C44,C45,C46,C47,C48,C49,C50,C51,C52,C53,C54,C55,C56,C57,C58,C59,C60,C61\"\n",
    "header = \"FileId\",\"AccountReportId\",\"ReportingFIId\",\"AccountNumber\",\"AccountBalance\",\"AccountBalanceCurrCode\",\"AcctHoldIndResCountryCode\",\"AcctHoldIndTIN\",\"AcctHoldIndIssuedBy\",\"\",\"AcctHoldIndPrecedingTitle\",\"AcctHoldIndTitle\",\"AcctHoldIndFirstName\",\"AcctHoldIndFirstName_xnlNameType\",\"AcctHoldIndMiddleName\",\"AcctHoldIndMiddleName_xnlNameType\",\"AcctHoldIndNamePrefix\",\"AcctHoldIndNamePrefix_ xnlNameType\",\"AcctHoldIndLastName\",\"AcctHoldIndLastName_ xnlNameType\",\"AcctHoldIndGenerationIdentifier\",\"AcctHoldIndSuffix\",\"AcctHoldIndGeneralSuffix\",\"AcctHoldIndAddressCountryCode\",\"AcctHoldIndAddressFixStreet\",\"AcctHoldIndAddressFixBuildingIdentifier\",\"AcctHoldIndAddressFixSuiteIdentifier\",\"AcctHoldIndAddressFixFloorIdentifier\",\"AcctHoldIndAddressFixDistrictName\",\"AcctHoldIndAddressFixPOB\",\"AcctHoldIndAddressFixPostCode\",\"AcctHoldIndAddressFixCity\",\"AcctHoldIndAddressFixCountrySubentity\",AcctHoldIndAddressFree,\"AcctHoldIndNationality\",\"AcctHoldIndBirthDate\",\"AcctHoldIndCity\",\"AcctHoldIndCitySubentity\",\"AcctHoldIndCountryCode\",\"AcctHoldIndFormerCountryName\",\"AcctHoldOrgResCountryCode\",\"AcctHoldOrgTIN\",\"AcctHoldOrgIssued by\",\"\",\"AcctHoldOrgName\",\"AcctHoldOrgAddressCountryCode\",\"AcctHoldOrgAddressFixStreet\",\"AcctHoldOrgAddressFixBuildingIdentifier\",\"AcctHoldOrgAddressFixSuiteIdentifier\",\"AcctHoldOrgAddressFixFloorIdentifier\",\"AcctHoldOrgAddressFixDistrictName\",\"AcctHoldOrgAddressFixPOB\",\"AcctHoldOrgAddressFixPostCode\",\"AcctHoldOrgAddressFixCity\",\"AcctHoldOrgAddressFixCountrySubentity\",\"AcctHoldOrgAddressFree\",\"\",\"\",\"DocRefID\",\"CorrDocRefID\",\"CorrMessageRefID\"\n",
    "with open('CSV_Consolidado.csv', 'w') as outfile:\n",
    "    outfile.write(header + \"\\n\")\n",
    "    \n",
    "    for fname in inputs_ct:\n",
    "        \n",
    "        with open(fname, encoding=\"utf-8\", errors='ignore') as infile: \n",
    "            next(infile)\n",
    "            outfile.write(infile.read())"
   ]
  },
  {
   "cell_type": "code",
   "execution_count": null,
   "id": "181a5d58",
   "metadata": {},
   "outputs": [],
   "source": [
    "with open(fname) as f:\n",
    "    next(f)\n",
    "    for line in f:"
   ]
  }
 ],
 "metadata": {
  "kernelspec": {
   "display_name": "Python 3 (ipykernel)",
   "language": "python",
   "name": "python3"
  },
  "language_info": {
   "codemirror_mode": {
    "name": "ipython",
    "version": 3
   },
   "file_extension": ".py",
   "mimetype": "text/x-python",
   "name": "python",
   "nbconvert_exporter": "python",
   "pygments_lexer": "ipython3",
   "version": "3.9.13"
  }
 },
 "nbformat": 4,
 "nbformat_minor": 5
}
